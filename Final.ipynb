{
 "cells": [
  {
   "cell_type": "code",
   "execution_count": 1,
   "id": "466a893d",
   "metadata": {},
   "outputs": [
    {
     "name": "stdout",
     "output_type": "stream",
     "text": [
      "WARNING:tensorflow:From <ipython-input-1-a921f40eabf3>:40: Sequential.predict_classes (from tensorflow.python.keras.engine.sequential) is deprecated and will be removed after 2021-01-01.\n",
      "Instructions for updating:\n",
      "Please use instead:* `np.argmax(model.predict(x), axis=-1)`,   if your model does multi-class classification   (e.g. if it uses a `softmax` last-layer activation).* `(model.predict(x) > 0.5).astype(\"int32\")`,   if your model does binary classification   (e.g. if it uses a `sigmoid` last-layer activation).\n"
     ]
    }
   ],
   "source": [
    "import warnings\n",
    "warnings.filterwarnings('ignore')\n",
    "import numpy as np\n",
    "import cv2\n",
    "from keras.models import load_model\n",
    "facedetect = cv2.CascadeClassifier('haarcascade_frontalface_default.xml')\n",
    "threshold=0.60\n",
    "cap=cv2.VideoCapture(0)\n",
    "cap.set(3, 640)\n",
    "cap.set(4, 480)\n",
    "font=cv2.FONT_HERSHEY_COMPLEX\n",
    "model = load_model('ModelWeight.h5')\n",
    "\n",
    "def preprocessing(img):\n",
    "    img=img.astype(\"uint8\")\n",
    "    img=cv2.cvtColor(img, cv2.COLOR_BGR2GRAY)\n",
    "    img=cv2.equalizeHist(img)\n",
    "    img = img/255\n",
    "    return img\n",
    "\n",
    "\n",
    "def get_className(classNo):\n",
    "    if classNo==0:\n",
    "        return \"Helmet\"\n",
    "    elif classNo==1:\n",
    "        return \"No Helmet\"\n",
    "\n",
    "\n",
    "while True:\n",
    "    sucess, imgOrignal=cap.read()\n",
    "    faces = facedetect.detectMultiScale(imgOrignal,1.3,5)\n",
    "    for x,y,w,h in faces:\n",
    "\n",
    "        crop_img=imgOrignal[y:y+h,x:x+h]\n",
    "        img=cv2.resize(crop_img, (32,32))\n",
    "        img=preprocessing(img)\n",
    "        img=img.reshape(1, 32, 32, 1)\n",
    "        \n",
    "        prediction=model.predict(img)\n",
    "        classIndex=model.predict_classes(img)\n",
    "        probabilityValue=np.amax(prediction)\n",
    "        if probabilityValue>threshold:\n",
    "            if classIndex==0:\n",
    "                cv2.rectangle(imgOrignal,(x,y),(x+w,y+h),(0,255,0),2)\n",
    "                cv2.rectangle(imgOrignal, (x,y-40),(x+w, y), (0,255,0),-2)\n",
    "                cv2.putText(imgOrignal, str(get_className(classIndex)),(x,y-10), font, 0.75, (255,255,255),1, cv2.LINE_AA)\n",
    "            elif classIndex==1:\n",
    "                cv2.rectangle(imgOrignal,(x,y),(x+w,y+h),(50,50,255),2)\n",
    "                cv2.rectangle(imgOrignal, (x,y-40),(x+w, y), (50,50,255),-2)\n",
    "                cv2.putText(imgOrignal, str(get_className(classIndex)),(x,y-10), font, 0.75, (255,255,255),1, cv2.LINE_AA)\n",
    "\n",
    "    cv2.imshow(\"Result\",imgOrignal)\n",
    "    k=cv2.waitKey(1)\n",
    "    if k==ord('q'):\n",
    "        break\n",
    "\n",
    "\n",
    "cap.release()\n",
    "cv2.destroyAllWindows()"
   ]
  },
  {
   "cell_type": "code",
   "execution_count": null,
   "id": "4477d90d",
   "metadata": {},
   "outputs": [],
   "source": []
  }
 ],
 "metadata": {
  "kernelspec": {
   "display_name": "Python 3",
   "language": "python",
   "name": "python3"
  },
  "language_info": {
   "codemirror_mode": {
    "name": "ipython",
    "version": 3
   },
   "file_extension": ".py",
   "mimetype": "text/x-python",
   "name": "python",
   "nbconvert_exporter": "python",
   "pygments_lexer": "ipython3",
   "version": "3.8.8"
  }
 },
 "nbformat": 4,
 "nbformat_minor": 5
}
