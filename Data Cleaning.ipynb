{
 "cells": [
  {
   "cell_type": "code",
   "execution_count": 161,
   "id": "66738c7a",
   "metadata": {},
   "outputs": [],
   "source": [
    "from PIL import Image\n",
    "import numpy as np\n",
    "import pandas as pd\n",
    "import matplotlib.pyplot as plt\n",
    "import xml.etree.ElementTree as ET\n",
    "from xml.dom import minidom\n",
    "import os"
   ]
  },
  {
   "cell_type": "code",
   "execution_count": 162,
   "id": "a59bd4f5",
   "metadata": {},
   "outputs": [],
   "source": [
    "image_path = \"C:/Users/Asus ROG/OneDrive/Desktop/Projects/7th sem project/Helmet Detection Dataset/images/\"\n",
    "annotation_path = \"C:/Users/Asus ROG/OneDrive/Desktop/Projects/7th sem project/Helmet Detection Dataset/annotations/\""
   ]
  },
  {
   "cell_type": "code",
   "execution_count": 163,
   "id": "0f3c82ae",
   "metadata": {},
   "outputs": [],
   "source": [
    "With_Helmet_Path = \"C:/Users/Asus ROG/OneDrive/Desktop/Projects/7th sem project/Final Dataset/With Helmet\"\n",
    "Without_Helmet_Path = \"C:/Users/Asus ROG/OneDrive/Desktop/Projects/7th sem project/Final Dataset/Without Helmet\"\n",
    "image_index = 0"
   ]
  },
  {
   "cell_type": "code",
   "execution_count": 164,
   "id": "948f64b9",
   "metadata": {},
   "outputs": [],
   "source": [
    "def prepareDataset(index):\n",
    "    global image_index\n",
    "    \n",
    "    #xml processing\n",
    "    \n",
    "    try:\n",
    "        \n",
    "        tree = ET.parse(annotation_path + \"BikesHelmets\" + str(index) + \".xml\")\n",
    "        root = tree.getroot()\n",
    "\n",
    "        # Image processing\n",
    "        im = Image.open(image_path + \"BikesHelmets\" + str(index) + \".png\")\n",
    "\n",
    "        for i in range(4,len(root)):\n",
    "            label = root[i][0].text\n",
    "\n",
    "            xmin = int(root[i][5][0].text)\n",
    "            ymin = int(root[i][5][1].text)\n",
    "            xmax = int(root[i][5][2].text)\n",
    "            ymax = int(root[i][5][3].text)\n",
    "\n",
    "            left = xmin\n",
    "            top = ymin\n",
    "            right = xmax\n",
    "            bottom = ymax\n",
    "\n",
    "            try:\n",
    "                im1 = im.crop((left, top, right, bottom))\n",
    "\n",
    "                if label == \"With Helmet\":\n",
    "                    im1.save(With_Helmet_Path + \"/\" + str(image_index) + \".png\")\n",
    "                    image_index += 1\n",
    "                elif label == \"Without Helmet\":\n",
    "                    im1.save(Without_Helmet_Path + \"/\" + str(image_index) + \".png\")\n",
    "                    image_index += 1\n",
    "            except:\n",
    "                continue\n",
    "    except:\n",
    "        return\n",
    "    "
   ]
  },
  {
   "cell_type": "code",
   "execution_count": 165,
   "id": "e107ae74",
   "metadata": {},
   "outputs": [],
   "source": [
    "image_index = 0\n",
    "for i in range(0,766):\n",
    "    prepareDataset(index = i)"
   ]
  },
  {
   "cell_type": "code",
   "execution_count": null,
   "id": "b9f47ee2",
   "metadata": {},
   "outputs": [],
   "source": []
  }
 ],
 "metadata": {
  "kernelspec": {
   "display_name": "Python 3",
   "language": "python",
   "name": "python3"
  },
  "language_info": {
   "codemirror_mode": {
    "name": "ipython",
    "version": 3
   },
   "file_extension": ".py",
   "mimetype": "text/x-python",
   "name": "python",
   "nbconvert_exporter": "python",
   "pygments_lexer": "ipython3",
   "version": "3.8.8"
  }
 },
 "nbformat": 4,
 "nbformat_minor": 5
}
